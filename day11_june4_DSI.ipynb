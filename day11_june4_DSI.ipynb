{
 "cells": [
  {
   "cell_type": "code",
   "execution_count": null,
   "metadata": {},
   "outputs": [],
   "source": [
    "c={'Global Warming is definitely the single greatest environmental challenge that the planet earth is facing at present. It is essential to understand the gravity of the situation. The fuel which you use in order to power your homes, cars, businesses and more is heating up the planet faster than expected. We are recording the hottest days and decades ever. What’s alarming is that the temperature of the earth has climbed to the highest point it has ever been in the past 12,000 years. It only gets worse from here if we don’t stop it now As the planet is getting hotter, we need to collectively act right now instead of waiting for more. The primary cause of global warming is fossil fuels. Human beings are addicted to burning them which produces coal, oil, greenhouse gases and more.\n",
    "\n",
    "The power plants, cards, and industries produce Carbon dioxide which stays in the atmosphere for 5 decades or more. This is the reason why the temperature of the earth rises.\n",
    "\n",
    "Due to this rise in temperature, the oceans are rising and the coral reefs are dying. Many aquatic species are going extinct while the glaciers are melting. You will be surprised to know that Greenland is losing 20% more mass than it receives from new snowfall.\n",
    "\n",
    "Thus, it will keep shrinking as the earth warms. Moreover, extreme weather patterns are for everyone to see. The heatwaves, droughts, floods, are now taking place with greater intensity and frequency.\n",
    "\n",
    "The hurricanes are doubling up in nature in terms of occurrence and the Katrina Hurricane is enough to prove this point. Further, the Greenland and Western Antarctic ice sheets are at great risk of melting completely. Please note that these two ice sheets presently hold around 20% of the Earth’s freshwater. The rise in sea levels will damage the coastal areas globally. Moreover, the regularity of hurricanes, tornadoes, and others may become more volatile spreading malaria and other deadly diseases.'}"
   ]
  }
 ],
 "metadata": {
  "kernelspec": {
   "display_name": "Python 3",
   "language": "python",
   "name": "python3"
  },
  "language_info": {
   "codemirror_mode": {
    "name": "ipython",
    "version": 3
   },
   "file_extension": ".py",
   "mimetype": "text/x-python",
   "name": "python",
   "nbconvert_exporter": "python",
   "pygments_lexer": "ipython3",
   "version": "3.7.4"
  }
 },
 "nbformat": 4,
 "nbformat_minor": 2
}
