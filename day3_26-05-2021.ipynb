{
 "cells": [
  {
   "cell_type": "markdown",
   "metadata": {},
   "source": [
    "<h1>Mark </h1>"
   ]
  },
  {
   "cell_type": "markdown",
   "metadata": {},
   "source": [
    "<h1>Aniol isGppd Bir</h1>"
   ]
  },
  {
   "cell_type": "markdown",
   "metadata": {},
   "source": [
    "-pouohohh\n"
   ]
  },
  {
   "cell_type": "markdown",
   "metadata": {},
   "source": [
    "- pythn"
   ]
  },
  {
   "cell_type": "markdown",
   "metadata": {},
   "source": [
    "### Fontstyles\n",
    "\n",
    "\n",
    "- i'm in **Bold** font\n",
    "- i'm also in  __bold__ font\n",
    "- i'm in *italic* font\n",
    "- i'm in _italic_ font\n",
    "- i'm in ***Italic and Bold***\n",
    "- i'm in ___Italic and Bold___\n",
    "- i'm ~strike offed~\n",
    "***jai hind***"
   ]
  },
  {
   "cell_type": "markdown",
   "metadata": {},
   "source": [
    "![pythonlogo](https://images.unsplash.com/photo-1541963463532-d68292c34b19?ixlib=rb-1.2.1&ixid=MnwxMjA3fDB8MHxleHBsb3JlLWZlZWR8MXx8fGVufDB8fHx8&w=1000&q=80)"
   ]
  },
  {
   "cell_type": "markdown",
   "metadata": {},
   "source": [
    "[iajsija](https://www.google.com)"
   ]
  },
  {
   "cell_type": "markdown",
   "metadata": {},
   "source": [
    "| Name | RollNo| id|\n",
    "|------|-------|---|\n",
    "|Anil  | 530   |xyz|\n",
    "|Anil  | 530   |xyz|\n",
    "|Anil  | 530   |xyz|\n",
    "|Anil  | 530   |xyz|\n"
   ]
  },
  {
   "cell_type": "markdown",
   "metadata": {},
   "source": [
    "```c\n",
    "#include<stdio.h>\n",
    "int main(){\n",
    "    \n",
    "    printf(\"Hello\");\n",
    "}\n",
    "```\n",
    "\n",
    "```html\n",
    "<h1> jj</h1>\n",
    "```"
   ]
  },
  {
   "cell_type": "code",
   "execution_count": null,
   "metadata": {},
   "outputs": [],
   "source": []
  }
 ],
 "metadata": {
  "kernelspec": {
   "display_name": "Python 3",
   "language": "python",
   "name": "python3"
  },
  "language_info": {
   "codemirror_mode": {
    "name": "ipython",
    "version": 3
   },
   "file_extension": ".py",
   "mimetype": "text/x-python",
   "name": "python",
   "nbconvert_exporter": "python",
   "pygments_lexer": "ipython3",
   "version": "3.7.4"
  }
 },
 "nbformat": 4,
 "nbformat_minor": 2
}
